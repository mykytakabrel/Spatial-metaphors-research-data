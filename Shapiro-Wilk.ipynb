{
 "cells": [
  {
   "cell_type": "code",
   "execution_count": 39,
   "id": "af88ec43-cc33-4638-ae6f-64145beab979",
   "metadata": {
    "tags": []
   },
   "outputs": [],
   "source": [
    "import pandas as pd\n",
    "from scipy.stats import shapiro"
   ]
  },
  {
   "cell_type": "code",
   "execution_count": 45,
   "id": "a779fb46-2696-45e8-b10b-829c47f26667",
   "metadata": {
    "tags": []
   },
   "outputs": [
    {
     "data": {
      "text/html": [
       "<div>\n",
       "<style scoped>\n",
       "    .dataframe tbody tr th:only-of-type {\n",
       "        vertical-align: middle;\n",
       "    }\n",
       "\n",
       "    .dataframe tbody tr th {\n",
       "        vertical-align: top;\n",
       "    }\n",
       "\n",
       "    .dataframe thead th {\n",
       "        text-align: right;\n",
       "    }\n",
       "</style>\n",
       "<table border=\"1\" class=\"dataframe\">\n",
       "  <thead>\n",
       "    <tr style=\"text-align: right;\">\n",
       "      <th></th>\n",
       "      <th>Psychotherapy</th>\n",
       "      <th>Podcasts</th>\n",
       "      <th>Subtitles</th>\n",
       "    </tr>\n",
       "    <tr>\n",
       "      <th>Metaphors</th>\n",
       "      <th></th>\n",
       "      <th></th>\n",
       "      <th></th>\n",
       "    </tr>\n",
       "  </thead>\n",
       "  <tbody>\n",
       "    <tr>\n",
       "      <th>1</th>\n",
       "      <td>0.017232</td>\n",
       "      <td>0.006021</td>\n",
       "      <td>0.006980</td>\n",
       "    </tr>\n",
       "    <tr>\n",
       "      <th>2</th>\n",
       "      <td>0.002872</td>\n",
       "      <td>0.006181</td>\n",
       "      <td>0.004442</td>\n",
       "    </tr>\n",
       "    <tr>\n",
       "      <th>3</th>\n",
       "      <td>0.000621</td>\n",
       "      <td>0.000401</td>\n",
       "      <td>0.000071</td>\n",
       "    </tr>\n",
       "    <tr>\n",
       "      <th>4</th>\n",
       "      <td>0.001475</td>\n",
       "      <td>0.002007</td>\n",
       "      <td>0.000071</td>\n",
       "    </tr>\n",
       "    <tr>\n",
       "      <th>5</th>\n",
       "      <td>0.000699</td>\n",
       "      <td>0.000401</td>\n",
       "      <td>0.002397</td>\n",
       "    </tr>\n",
       "  </tbody>\n",
       "</table>\n",
       "</div>"
      ],
      "text/plain": [
       "           Psychotherapy  Podcasts  Subtitles\n",
       "Metaphors                                    \n",
       "1               0.017232  0.006021   0.006980\n",
       "2               0.002872  0.006181   0.004442\n",
       "3               0.000621  0.000401   0.000071\n",
       "4               0.001475  0.002007   0.000071\n",
       "5               0.000699  0.000401   0.002397"
      ]
     },
     "execution_count": 45,
     "metadata": {},
     "output_type": "execute_result"
    }
   ],
   "source": [
    "csv_file = '/Users/nikitakabrel/Desktop/Data analysis/Non-spatial.csv'  # Replace 'your_data.csv' with the actual file path\n",
    "data = pd.read_csv(csv_file,delimiter=';', index_col='Metaphors')\n",
    "data.dropna(inplace=True)\n",
    "data.head()"
   ]
  },
  {
   "cell_type": "code",
   "execution_count": 46,
   "id": "083f65e5-49cf-4af2-856c-3ea4b94690c7",
   "metadata": {
    "tags": []
   },
   "outputs": [],
   "source": [
    "data['Psychotherapy'] = data['Psychotherapy'].astype(float)"
   ]
  },
  {
   "cell_type": "code",
   "execution_count": 47,
   "id": "97b477ce-22b1-4680-b982-9e5f8df3927f",
   "metadata": {
    "tags": []
   },
   "outputs": [
    {
     "data": {
      "text/html": [
       "<div>\n",
       "<style scoped>\n",
       "    .dataframe tbody tr th:only-of-type {\n",
       "        vertical-align: middle;\n",
       "    }\n",
       "\n",
       "    .dataframe tbody tr th {\n",
       "        vertical-align: top;\n",
       "    }\n",
       "\n",
       "    .dataframe thead th {\n",
       "        text-align: right;\n",
       "    }\n",
       "</style>\n",
       "<table border=\"1\" class=\"dataframe\">\n",
       "  <thead>\n",
       "    <tr style=\"text-align: right;\">\n",
       "      <th></th>\n",
       "      <th>Psychotherapy</th>\n",
       "      <th>Podcasts</th>\n",
       "      <th>Subtitles</th>\n",
       "    </tr>\n",
       "  </thead>\n",
       "  <tbody>\n",
       "    <tr>\n",
       "      <th>count</th>\n",
       "      <td>22.000000</td>\n",
       "      <td>22.000000</td>\n",
       "      <td>22.000000</td>\n",
       "    </tr>\n",
       "    <tr>\n",
       "      <th>mean</th>\n",
       "      <td>0.002558</td>\n",
       "      <td>0.002303</td>\n",
       "      <td>0.001545</td>\n",
       "    </tr>\n",
       "    <tr>\n",
       "      <th>std</th>\n",
       "      <td>0.004549</td>\n",
       "      <td>0.002751</td>\n",
       "      <td>0.002194</td>\n",
       "    </tr>\n",
       "    <tr>\n",
       "      <th>min</th>\n",
       "      <td>0.000000</td>\n",
       "      <td>0.000000</td>\n",
       "      <td>0.000000</td>\n",
       "    </tr>\n",
       "    <tr>\n",
       "      <th>25%</th>\n",
       "      <td>0.000310</td>\n",
       "      <td>0.000421</td>\n",
       "      <td>0.000353</td>\n",
       "    </tr>\n",
       "    <tr>\n",
       "      <th>50%</th>\n",
       "      <td>0.000699</td>\n",
       "      <td>0.001204</td>\n",
       "      <td>0.000635</td>\n",
       "    </tr>\n",
       "    <tr>\n",
       "      <th>75%</th>\n",
       "      <td>0.001843</td>\n",
       "      <td>0.003151</td>\n",
       "      <td>0.001657</td>\n",
       "    </tr>\n",
       "    <tr>\n",
       "      <th>max</th>\n",
       "      <td>0.017232</td>\n",
       "      <td>0.010837</td>\n",
       "      <td>0.008108</td>\n",
       "    </tr>\n",
       "  </tbody>\n",
       "</table>\n",
       "</div>"
      ],
      "text/plain": [
       "       Psychotherapy   Podcasts  Subtitles\n",
       "count      22.000000  22.000000  22.000000\n",
       "mean        0.002558   0.002303   0.001545\n",
       "std         0.004549   0.002751   0.002194\n",
       "min         0.000000   0.000000   0.000000\n",
       "25%         0.000310   0.000421   0.000353\n",
       "50%         0.000699   0.001204   0.000635\n",
       "75%         0.001843   0.003151   0.001657\n",
       "max         0.017232   0.010837   0.008108"
      ]
     },
     "execution_count": 47,
     "metadata": {},
     "output_type": "execute_result"
    }
   ],
   "source": [
    "data.describe()"
   ]
  },
  {
   "cell_type": "code",
   "execution_count": 36,
   "id": "11fa443f-9b4c-402e-9adb-3ab7882086d9",
   "metadata": {
    "tags": []
   },
   "outputs": [
    {
     "name": "stdout",
     "output_type": "stream",
     "text": [
      "Shapiro-Wilk Test for Group 1: Statistic = 0.7507196664810181  p-value = 0.0001267935149371624\n",
      "Shapiro-Wilk Test for Group 2: Statistic = 0.5971031188964844  p-value = 1.8352577626501443e-06\n",
      "Shapiro-Wilk Test for Group 3: Statistic = 0.7741183042526245  p-value = 0.0002707496169023216\n"
     ]
    }
   ],
   "source": [
    "group1 = data['Psychotherapy']\n",
    "group2 = data['Podcasts']\n",
    "group3 = data['Subtitles']\n",
    "\n",
    "# Perform the Shapiro-Wilk test for each group\n",
    "stat1, p_value1 = shapiro(group1)\n",
    "stat2, p_value2 = shapiro(group2)\n",
    "stat3, p_value3 = shapiro(group3)\n",
    "\n",
    "# Print the test results\n",
    "print(\"Shapiro-Wilk Test for Group 1: Statistic =\", stat1, \" p-value =\", p_value1)\n",
    "print(\"Shapiro-Wilk Test for Group 2: Statistic =\", stat2, \" p-value =\", p_value2)\n",
    "print(\"Shapiro-Wilk Test for Group 3: Statistic =\", stat3, \" p-value =\", p_value3)"
   ]
  },
  {
   "cell_type": "code",
   "execution_count": null,
   "id": "7d47bf09-a9d5-4ec9-b94c-93a341ad9b27",
   "metadata": {},
   "outputs": [],
   "source": []
  },
  {
   "cell_type": "code",
   "execution_count": null,
   "id": "e69bac21-40e3-4a0e-9383-e35188573f4f",
   "metadata": {},
   "outputs": [],
   "source": []
  }
 ],
 "metadata": {
  "kernelspec": {
   "display_name": "Python 3 (ipykernel)",
   "language": "python",
   "name": "python3"
  },
  "language_info": {
   "codemirror_mode": {
    "name": "ipython",
    "version": 3
   },
   "file_extension": ".py",
   "mimetype": "text/x-python",
   "name": "python",
   "nbconvert_exporter": "python",
   "pygments_lexer": "ipython3",
   "version": "3.11.3"
  }
 },
 "nbformat": 4,
 "nbformat_minor": 5
}
