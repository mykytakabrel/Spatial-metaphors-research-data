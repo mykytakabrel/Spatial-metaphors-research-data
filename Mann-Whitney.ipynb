{
 "cells": [
  {
   "cell_type": "code",
   "execution_count": 93,
   "id": "7e32eb19-69af-4ae5-a4b4-a44c24a78e78",
   "metadata": {
    "tags": []
   },
   "outputs": [],
   "source": [
    "import scipy.stats as stats\n",
    "from scipy.stats import mannwhitneyu"
   ]
  },
  {
   "cell_type": "code",
   "execution_count": 132,
   "id": "bc0740d7-20c2-4b0c-98a2-82924a600ab2",
   "metadata": {
    "tags": []
   },
   "outputs": [
    {
     "data": {
      "text/html": [
       "<div>\n",
       "<style scoped>\n",
       "    .dataframe tbody tr th:only-of-type {\n",
       "        vertical-align: middle;\n",
       "    }\n",
       "\n",
       "    .dataframe tbody tr th {\n",
       "        vertical-align: top;\n",
       "    }\n",
       "\n",
       "    .dataframe thead th {\n",
       "        text-align: right;\n",
       "    }\n",
       "</style>\n",
       "<table border=\"1\" class=\"dataframe\">\n",
       "  <thead>\n",
       "    <tr style=\"text-align: right;\">\n",
       "      <th></th>\n",
       "      <th>Psychotherapy</th>\n",
       "      <th>Podcasts</th>\n",
       "      <th>Subtitles</th>\n",
       "    </tr>\n",
       "  </thead>\n",
       "  <tbody>\n",
       "    <tr>\n",
       "      <th>count</th>\n",
       "      <td>21.000000</td>\n",
       "      <td>21.000000</td>\n",
       "      <td>21.000000</td>\n",
       "    </tr>\n",
       "    <tr>\n",
       "      <th>mean</th>\n",
       "      <td>0.003138</td>\n",
       "      <td>0.000933</td>\n",
       "      <td>0.000554</td>\n",
       "    </tr>\n",
       "    <tr>\n",
       "      <th>std</th>\n",
       "      <td>0.002978</td>\n",
       "      <td>0.001182</td>\n",
       "      <td>0.000565</td>\n",
       "    </tr>\n",
       "    <tr>\n",
       "      <th>min</th>\n",
       "      <td>0.000854</td>\n",
       "      <td>0.000161</td>\n",
       "      <td>0.000000</td>\n",
       "    </tr>\n",
       "    <tr>\n",
       "      <th>25%</th>\n",
       "      <td>0.001242</td>\n",
       "      <td>0.000321</td>\n",
       "      <td>0.000241</td>\n",
       "    </tr>\n",
       "    <tr>\n",
       "      <th>50%</th>\n",
       "      <td>0.001785</td>\n",
       "      <td>0.000562</td>\n",
       "      <td>0.000482</td>\n",
       "    </tr>\n",
       "    <tr>\n",
       "      <th>75%</th>\n",
       "      <td>0.004580</td>\n",
       "      <td>0.000722</td>\n",
       "      <td>0.000562</td>\n",
       "    </tr>\n",
       "    <tr>\n",
       "      <th>max</th>\n",
       "      <td>0.012574</td>\n",
       "      <td>0.005459</td>\n",
       "      <td>0.002408</td>\n",
       "    </tr>\n",
       "  </tbody>\n",
       "</table>\n",
       "</div>"
      ],
      "text/plain": [
       "       Psychotherapy   Podcasts  Subtitles\n",
       "count      21.000000  21.000000  21.000000\n",
       "mean        0.003138   0.000933   0.000554\n",
       "std         0.002978   0.001182   0.000565\n",
       "min         0.000854   0.000161   0.000000\n",
       "25%         0.001242   0.000321   0.000241\n",
       "50%         0.001785   0.000562   0.000482\n",
       "75%         0.004580   0.000722   0.000562\n",
       "max         0.012574   0.005459   0.002408"
      ]
     },
     "execution_count": 132,
     "metadata": {},
     "output_type": "execute_result"
    }
   ],
   "source": [
    "csv_file = '/Users/nikitakabrel/Desktop/Data analysis/All spatial concepts.csv'  # Replace 'your_data.csv' with the actual file path\n",
    "data = pd.read_csv(csv_file,delimiter=';', index_col='Metaphors')\n",
    "data.dropna(inplace=True)\n",
    "data['Psychotherapy'] = data['Psychotherapy'].astype(float)\n",
    "data['Podcasts'] = data['Podcasts'].astype(float)\n",
    "data['Subtitles'] = data['Subtitles'].astype(float)\n",
    "data.describe()"
   ]
  },
  {
   "cell_type": "code",
   "execution_count": 133,
   "id": "48b80702-5efb-40a9-aa25-878712a9df74",
   "metadata": {
    "tags": []
   },
   "outputs": [
    {
     "name": "stdout",
     "output_type": "stream",
     "text": [
      "Group1 vs. Group2: U = 385.0 , p = 3.645212453623821e-05\n",
      "Group1 vs. Group3: U = 415.0 , p = 1.030310111090983e-06\n",
      "Group2 vs. Group3: U = 272.0 , p = 0.19684252977682148\n",
      "Standard Deviation - Group1: 0.0029780594320043636\n",
      "Standard Deviation - Group2: 0.0011818773759392509\n",
      "Standard Deviation - Group3: 0.0005653200527555392\n",
      "Cohen's d (Group1 vs. Group2): 0.5301272139473201\n",
      "Cohen's d (Group1 vs. Group3): 0.7291762068987849\n",
      "Cohen's d (Group2 vs. Group3): 0.21660534516174065\n"
     ]
    }
   ],
   "source": [
    "group1_data = data['Psychotherapy']\n",
    "group2_data = data['Podcasts']\n",
    "group3_data = data['Subtitles']\n",
    "statistic1, p_value1 = mannwhitneyu(group1_data, group2_data, alternative='two-sided')\n",
    "\n",
    "# Perform Mann-Whitney U test for Group1 vs. Group3\n",
    "statistic2, p_value2 = mannwhitneyu(group1_data, group3_data, alternative='two-sided')\n",
    "\n",
    "# Perform Mann-Whitney U test for Group2 vs. Group3\n",
    "statistic3, p_value3 = mannwhitneyu(group2_data, group3_data, alternative='two-sided')\n",
    "\n",
    "# Print the results\n",
    "print(\"Group1 vs. Group2: U =\", statistic1, \", p =\", p_value1)\n",
    "print(\"Group1 vs. Group3: U =\", statistic2, \", p =\", p_value2)\n",
    "print(\"Group2 vs. Group3: U =\", statistic3, \", p =\", p_value3)\n",
    "# Calculate standard deviations for each group\n",
    "sd_group1 = stdev(group1_data)\n",
    "sd_group2 = stdev(group2_data)\n",
    "sd_group3 = stdev(group3_data)\n",
    "\n",
    "# Calculate Cohen's d effect size for each pairwise comparison\n",
    "cohens_d1 = (group1_data.mean() - group2_data.mean()) / (sd_group1 + sd_group2)\n",
    "cohens_d2 = (group1_data.mean() - group3_data.mean()) / (sd_group1 + sd_group3)\n",
    "cohens_d3 = (group2_data.mean() - group3_data.mean()) / (sd_group2 + sd_group3)\n",
    "\n",
    "# Print the results\n",
    "print(\"Standard Deviation - Group1:\", sd_group1)\n",
    "print(\"Standard Deviation - Group2:\", sd_group2)\n",
    "print(\"Standard Deviation - Group3:\", sd_group3)\n",
    "print(\"Cohen's d (Group1 vs. Group2):\", cohens_d1)\n",
    "print(\"Cohen's d (Group1 vs. Group3):\", cohens_d2)\n",
    "print(\"Cohen's d (Group2 vs. Group3):\", cohens_d3)"
   ]
  },
  {
   "cell_type": "code",
   "execution_count": null,
   "id": "ff715977-0d03-442f-b66a-1c8aa237c664",
   "metadata": {},
   "outputs": [],
   "source": []
  },
  {
   "cell_type": "code",
   "execution_count": null,
   "id": "a15da75f-17e2-4605-af15-e334cac96c60",
   "metadata": {},
   "outputs": [],
   "source": []
  }
 ],
 "metadata": {
  "kernelspec": {
   "display_name": "Python 3 (ipykernel)",
   "language": "python",
   "name": "python3"
  },
  "language_info": {
   "codemirror_mode": {
    "name": "ipython",
    "version": 3
   },
   "file_extension": ".py",
   "mimetype": "text/x-python",
   "name": "python",
   "nbconvert_exporter": "python",
   "pygments_lexer": "ipython3",
   "version": "3.11.3"
  }
 },
 "nbformat": 4,
 "nbformat_minor": 5
}
